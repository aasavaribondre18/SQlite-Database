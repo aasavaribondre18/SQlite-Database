{
 "cells": [
  {
   "cell_type": "markdown",
   "id": "cdcd9c7e-91e2-496b-981a-64534a7edce7",
   "metadata": {},
   "source": [
    "# Step-1 : Create a database Sales_data.db using Python"
   ]
  },
  {
   "cell_type": "code",
   "execution_count": 2,
   "id": "629fd961-0df5-43e5-b89f-2126a191f8de",
   "metadata": {},
   "outputs": [],
   "source": [
    "import sqlite3"
   ]
  },
  {
   "cell_type": "code",
   "execution_count": 10,
   "id": "7d327872-f337-4ac1-a890-6ec576283b3b",
   "metadata": {},
   "outputs": [
    {
     "data": {
      "text/plain": [
       "<sqlite3.Cursor at 0x1fbe8ae4340>"
      ]
     },
     "execution_count": 10,
     "metadata": {},
     "output_type": "execute_result"
    }
   ],
   "source": [
    "new_conn = sqlite3.connect('sales_data.db')\n",
    "cursor = new_conn.cursor()\n",
    "\n",
    "cursor.execute (''' CREATE TABLE sales (id INTEGER PRIMARY KEY ,\n",
    "                                 product TEXT,\n",
    "                                 quantity INTEGER,\n",
    "                                 price REAL)''')"
   ]
  },
  {
   "cell_type": "markdown",
   "id": "1e1071fa-f7ef-4a9d-a4ec-3494028a99c9",
   "metadata": {},
   "source": [
    "# Step-2 :Run SQL Querirs and Load  result in Pandas"
   ]
  },
  {
   "cell_type": "code",
   "execution_count": 17,
   "id": "2b961f41-6416-4bc6-b3fc-fa9f52343d58",
   "metadata": {},
   "outputs": [
    {
     "name": "stdout",
     "output_type": "stream",
     "text": [
      "Sales Summary:\n",
      "   product  total_qty  revenue\n",
      "0   Apples         17      8.5\n",
      "1  Bananas         11      3.3\n",
      "2  Oranges         12      4.8\n"
     ]
    }
   ],
   "source": [
    "import sqlite3\n",
    "import pandas as pd\n",
    "\n",
    "# Connect to the database\n",
    "conn = sqlite3.connect('sales_data.db')\n",
    "\n",
    "query = '''\n",
    "SELECT product, \n",
    "       SUM(quantity) AS total_qty, \n",
    "       SUM(quantity * price) AS revenue\n",
    "FROM sales\n",
    "GROUP BY product\n",
    "'''\n",
    "\n",
    "\n",
    "df = pd.read_sql_query(query, conn)\n",
    "conn.close()\n",
    "\n",
    "\n",
    "print(\"Sales Summary:\")\n",
    "print(df)"
   ]
  },
  {
   "cell_type": "code",
   "execution_count": 12,
   "id": "3ff5e635-4790-414c-9296-57e9173f416d",
   "metadata": {},
   "outputs": [],
   "source": [
    "sales_data = [\n",
    "    (\"Apples\",10,0.5),\n",
    "    (\"Bananas\",5,0.3),\n",
    "    (\"Oranges\",8,0.4),\n",
    "    (\"Apples\",7,0.5),\n",
    "    (\"Bananas\",6,0.3),\n",
    "    (\"Oranges\",4,0.4)\n",
    "]\n",
    "\n",
    "cursor.executemany(\"INSERT INTO sales (product,quantity,price) VALUES (?,?,?)\" , sales_data)\n",
    "\n",
    "new_conn.commit()\n",
    "new_conn.close()"
   ]
  },
  {
   "cell_type": "markdown",
   "id": "0a6887e3-0ad7-4740-b987-d1a3d03af412",
   "metadata": {},
   "source": [
    "# Step-3 : Plot the Data Using Matplotlib"
   ]
  },
  {
   "cell_type": "code",
   "execution_count": 15,
   "id": "255043e1-3cf0-4e3d-b63f-d6d40ad71f5d",
   "metadata": {},
   "outputs": [
    {
     "data": {
      "image/png": "[encoded data removed]",
      "text/plain": [
       "<Figure size 640x480 with 1 Axes>"
      ]
     },
     "metadata": {},
     "output_type": "display_data"
    }
   ],
   "source": [
    "import matplotlib.pyplot as plt\n",
    "\n",
    "# Create bar chart of revenue by product\n",
    "df.plot(kind='bar', x='product', y='revenue', legend=False, color='skyblue')\n",
    "\n",
    "# Add labels and title\n",
    "plt.title(\"Revenue by Product\")\n",
    "plt.xlabel(\"Product\")\n",
    "plt.ylabel(\"Revenue ($)\")\n",
    "plt.tight_layout()\n",
    "\n",
    "# Show or save the chart\n",
    "plt.savefig(\"sales_chart.png\")  # Optional\n",
    "plt.show()"
   ]
  },
  {
   "cell_type": "code",
   "execution_count": null,
   "id": "3a6813a8-5352-4911-b382-15a011e6e7ed",
   "metadata": {},
   "outputs": [],
   "source": []
  }
 ],
 "metadata": {
  "kernelspec": {
   "display_name": "Python 3 (ipykernel)",
   "language": "python",
   "name": "python3"
  },
  "language_info": {
   "codemirror_mode": {
    "name": "ipython",
    "version": 3
   },
   "file_extension": ".py",
   "mimetype": "text/x-python",
   "name": "python",
   "nbconvert_exporter": "python",
   "pygments_lexer": "ipython3",
   "version": "3.11.7"
  }
 },
 "nbformat": 4,
 "nbformat_minor": 5
}
